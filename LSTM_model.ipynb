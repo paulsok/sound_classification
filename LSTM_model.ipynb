{
 "cells": [
  {
   "cell_type": "code",
   "execution_count": null,
   "metadata": {
    "id": "Mx3fOmkEknTl"
   },
   "outputs": [],
   "source": [
    "# import base libraries\n",
    "import pandas as pd\n",
    "\n",
    "# pytorch\n",
    "import torch\n",
    "\n",
    "# jupyter notebook configuration\n",
    "import warnings\n",
    "from IPython.display import Audio\n",
    "warnings.filterwarnings('ignore')\n",
    "%matplotlib inline"
   ]
  },
  {
   "cell_type": "code",
   "execution_count": null,
   "metadata": {
    "colab": {
     "base_uri": "https://localhost:8080/",
     "height": 204
    },
    "id": "Q_B_XJV-mqlA",
    "outputId": "e6657f91-a705-481d-ff22-ed59f43f233f"
   },
   "outputs": [],
   "source": [
    "data_path = '/content/drive/MyDrive/UrbanSound8K/'  # google disc path\n",
    "audio_path = '/content/drive/MyDrive/UrbanSound8K/audio/'\n",
    "\n",
    "# Read metadata file\n",
    "metadata_file = data_path + '/metadata/UrbanSound8K.csv'\n",
    "df = pd.read_csv(metadata_file)\n",
    "df.head()"
   ]
  },
  {
   "cell_type": "code",
   "execution_count": null,
   "metadata": {
    "colab": {
     "base_uri": "https://localhost:8080/"
    },
    "id": "BjjoU0LLmrjn",
    "outputId": "94d11fde-08b1-409a-8494-5f14ffdaca2d"
   },
   "outputs": [],
   "source": [
    "print(f'metadata shape: {df.shape}')"
   ]
  },
  {
   "cell_type": "code",
   "execution_count": null,
   "metadata": {},
   "outputs": [],
   "source": [
    "class SundDS(Dataset):\n",
    "    def __init__(self, file_path, class_id):\n",
    "        self.file_path = file_path\n",
    "        self.class_id = class_id\n",
    "        self.sr = 44100\n",
    "        \n",
    "    def __len__(self):\n",
    "        return len(self.file_path)\n",
    "    \n",
    "    def __getitem__(self, idx):\n",
    "        path = self.file_path[idx]\n",
    "        # load audio\n",
    "        waveform, sr = torchaudio.load(path, normalize=True)\n",
    "\n",
    "        # convert sterio to mono\n",
    "        audio_mono = torch.mean(waveform, dim=0, keepdim=True)\n",
    "\n",
    "        data = torch.zeros([1, self.sr])\n",
    "\n",
    "        if audio_mono.numel() < self.sr:\n",
    "            data[:, :audio_mono.numel()] = audio_mono\n",
    "        else:\n",
    "            data = audio_mono[:, :self.sr]"
   ]
  }
 ],
 "metadata": {
  "accelerator": "GPU",
  "colab": {
   "collapsed_sections": [],
   "name": "LSTM_model.ipynb",
   "provenance": []
  },
  "kernelspec": {
   "display_name": "Python 3",
   "language": "python",
   "name": "python3"
  },
  "language_info": {
   "codemirror_mode": {
    "name": "ipython",
    "version": 3
   },
   "file_extension": ".py",
   "mimetype": "text/x-python",
   "name": "python",
   "nbconvert_exporter": "python",
   "pygments_lexer": "ipython3",
   "version": "3.8.8"
  }
 },
 "nbformat": 4,
 "nbformat_minor": 1
}
