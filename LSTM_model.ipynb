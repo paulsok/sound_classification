{
 "cells": [
  {
   "cell_type": "code",
   "execution_count": 1,
   "metadata": {
    "id": "Mx3fOmkEknTl"
   },
   "outputs": [],
   "source": [
    "# import base libraries\n",
    "import pandas as pd\n",
    "\n",
    "# pytorch\n",
    "import torch\n",
    "\n",
    "# sklearn\n",
    "from sklearn.model_selection import train_test_split\n",
    "\n",
    "# jupyter notebook configuration\n",
    "import warnings\n",
    "from IPython.display import Audio\n",
    "warnings.filterwarnings('ignore')\n",
    "%matplotlib inline"
   ]
  },
  {
   "cell_type": "code",
   "execution_count": null,
   "metadata": {
    "colab": {
     "base_uri": "https://localhost:8080/",
     "height": 204
    },
    "id": "Q_B_XJV-mqlA",
    "outputId": "e6657f91-a705-481d-ff22-ed59f43f233f"
   },
   "outputs": [],
   "source": [
    "# google disc path\n",
    "data_path = '/content/drive/MyDrive/UrbanSound8K/'\n",
    "audio_path = '/content/drive/MyDrive/UrbanSound8K/audio/'\n",
    "\n",
    "# metadata file\n",
    "metadata_file = data_path + '/metadata/UrbanSound8K.csv'\n",
    "df = pd.read_csv(metadata_file)\n",
    "df.head()"
   ]
  },
  {
   "cell_type": "code",
   "execution_count": null,
   "metadata": {
    "colab": {
     "base_uri": "https://localhost:8080/"
    },
    "id": "BjjoU0LLmrjn",
    "outputId": "94d11fde-08b1-409a-8494-5f14ffdaca2d"
   },
   "outputs": [],
   "source": [
    "print(f'metadata shape: {df.shape}')"
   ]
  },
  {
   "cell_type": "code",
   "execution_count": null,
   "metadata": {},
   "outputs": [],
   "source": [
    "# exctract values\n",
    "files = df[\"slice_file_name\"].values.tolist()\n",
    "folds = df[\"fold\"].values\n",
    "labels = df[\"classID\"].values.tolist()"
   ]
  },
  {
   "cell_type": "code",
   "execution_count": null,
   "metadata": {},
   "outputs": [],
   "source": [
    "class SundDS(Dataset):\n",
    "    def __init__(self, file_path, class_id):\n",
    "        self.file_path = file_path\n",
    "        self.class_id = class_id\n",
    "        self.sr = 44100\n",
    "\n",
    "    def __getitem__(self, idx):\n",
    "        path = self.file_path[idx]\n",
    "\n",
    "        # load audio\n",
    "        waveform, sr = torchaudio.load(path, normalize=True)\n",
    "\n",
    "        # convert sterio to mono\n",
    "        mono = torch.mean(waveform, dim=0, keepdim=True)\n",
    "\n",
    "        data = torch.zeros([1, self.sr])\n",
    "        if mono.numel() < self.sr:\n",
    "            data[:, :mono.numel()] = mono\n",
    "        else:\n",
    "            data = mono[:, :self.sr]\n",
    "\n",
    "        mel_spec = torchaudio.transforms.MelSpectrogram(sr)(mono)\n",
    "        \n",
    "        # mel-frequency cepstrum coefficients\n",
    "        mfcc = torchaudio.transforms.MFCC(sample_rate=sr)(mono)\n",
    "\n",
    "        # create features\n",
    "        features = torch.cat([mel_spec, mfcc], axis=1)\n",
    "\n",
    "        return {\"spec\": torch.tensor(features[0].permute(1, 0), dtype=torch.float),\n",
    "                \"label\": torch.tensor(self.class_id[idx], dtype=torch.long)}"
   ]
  },
  {
   "cell_type": "code",
   "execution_count": null,
   "metadata": {},
   "outputs": [],
   "source": [
    "# create path with training files\n",
    "path = [os.path.join(audio_path + \"fold\" + str(folder) + \"/\" + file) for folder, file in zip(folds, files)]\n",
    "\n",
    "X_train, X_test, y_train, y_test = train_test_split(path, labels, random_state=42, test_size=0.2)"
   ]
  }
 ],
 "metadata": {
  "accelerator": "GPU",
  "colab": {
   "collapsed_sections": [],
   "name": "LSTM_model.ipynb",
   "provenance": []
  },
  "kernelspec": {
   "display_name": "Python 3",
   "language": "python",
   "name": "python3"
  },
  "language_info": {
   "codemirror_mode": {
    "name": "ipython",
    "version": 3
   },
   "file_extension": ".py",
   "mimetype": "text/x-python",
   "name": "python",
   "nbconvert_exporter": "python",
   "pygments_lexer": "ipython3",
   "version": "3.8.8"
  }
 },
 "nbformat": 4,
 "nbformat_minor": 1
}
